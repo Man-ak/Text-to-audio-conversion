{
 "cells": [
  {
   "cell_type": "code",
   "execution_count": 3,
   "id": "4bee55e3",
   "metadata": {},
   "outputs": [
    {
     "data": {
      "text/plain": [
       "0"
      ]
     },
     "execution_count": 3,
     "metadata": {},
     "output_type": "execute_result"
    }
   ],
   "source": [
    "from gtts import gTTS\n",
    "import os\n",
    "\n",
    "# Providing the text\n",
    "input_text = \"Hello! Manak Here. this is my project to convert text to audio via gTTS library\"\n",
    "\n",
    "# Setting the language\n",
    "language = \"en\"\n",
    "\n",
    "# Passing to gtts engine\n",
    "voice = gTTS(text=input_text, lang=language, slow=False)\n",
    "\n",
    "# Creating and saving the audio file\n",
    "voice.save(\"demo.mp3\")\n",
    "\n",
    "# Playing the file\n",
    "os.system(\"start demo.mp3\")"
   ]
  },
  {
   "cell_type": "code",
   "execution_count": null,
   "id": "0fb66b62",
   "metadata": {},
   "outputs": [],
   "source": []
  }
 ],
 "metadata": {
  "kernelspec": {
   "display_name": "Python 3 (ipykernel)",
   "language": "python",
   "name": "python3"
  },
  "language_info": {
   "codemirror_mode": {
    "name": "ipython",
    "version": 3
   },
   "file_extension": ".py",
   "mimetype": "text/x-python",
   "name": "python",
   "nbconvert_exporter": "python",
   "pygments_lexer": "ipython3",
   "version": "3.9.13"
  }
 },
 "nbformat": 4,
 "nbformat_minor": 5
}
